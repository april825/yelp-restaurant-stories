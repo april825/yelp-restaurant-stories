{
 "cells": [
  {
   "cell_type": "markdown",
   "metadata": {},
   "source": [
    "# Explanatory Data Analysis"
   ]
  },
  {
   "cell_type": "markdown",
   "metadata": {},
   "source": [
    "## Business Question:\n",
    "* What's in a customer's review?\n",
    "* Objective: increase user engagement by providing quick insights using customer reviews\n",
    "* Benefits to Yelp: Restaurants will use this data to understand the health of their business which leads to more partnership with businesses and therefore higher revenue."
   ]
  },
  {
   "cell_type": "code",
   "execution_count": null,
   "metadata": {
    "colab": {
     "base_uri": "https://localhost:8080/",
     "height": 17
    },
    "executionInfo": {
     "elapsed": 18,
     "status": "ok",
     "timestamp": 1635425648284,
     "user": {
      "displayName": "April Leclair",
      "photoUrl": "https://lh3.googleusercontent.com/a-/AOh14GjPd5_YTfQEQ9MwXjwXDiD4qg00cRSh02NcJBTLrDE=s64",
      "userId": "01298316504062339523"
     },
     "user_tz": 300
    },
    "id": "3A4sazID71ZW",
    "outputId": "a24d20b3-b6b4-4c7b-a036-359a41b19c82"
   },
   "outputs": [],
   "source": [
    "%%html\n",
    "<style>\n",
    ".dataframe td {\n",
    "    white-space: nowrap;\n",
    "}\n",
    "</style>"
   ]
  },
  {
   "cell_type": "code",
   "execution_count": null,
   "metadata": {},
   "outputs": [],
   "source": [
    "import os\n",
    "for dirname, _, filenames in os.walk('source/'):\n",
    "    for filename in filenames:\n",
    "        print(os.path.join(dirname, filename))"
   ]
  },
  {
   "cell_type": "code",
   "execution_count": null,
   "metadata": {},
   "outputs": [],
   "source": [
    "import numpy as np # linear algebra\n",
    "import pandas as pd # data processing, CSV file I/O (e.g. pd.read_csv)\n",
    "import matplotlib.pyplot as plt\n",
    "import seaborn as sns\n",
    "\n",
    "import warnings\n",
    "warnings.filterwarnings(\"ignore\")\n",
    "\n",
    "from scipy import stats\n",
    "from scipy.stats import ttest_ind\n",
    "\n",
    "# plt.rcParams[\"font.family\"] = \"monospace\"\n",
    "# plt.rcParams['figure.dpi'] = 150\n",
    "# background_color='#F5F4EF'\n",
    "\n",
    "# Print colored text \n",
    "# https://stackoverflow.com/questions/287871/how-to-print-colored-text-to-the-terminal\n",
    "# Includes other color options\n",
    "\n",
    "HEADER = '\\033[95m'\n",
    "OKBLUE = '\\033[94m'\n",
    "OKCYAN = '\\033[96m'\n",
    "OKGREEN = '\\033[92m'\n",
    "WARNING = '\\033[93m'\n",
    "FAIL = '\\033[91m'\n",
    "ENDC = '\\033[0m'\n",
    "BOLD = '\\033[1m'\n",
    "UNDERLINE = '\\033[4m'\n",
    "\n",
    "class color_font:\n",
    "    S = BOLD + OKBLUE + UNDERLINE   # S = Start\n",
    "    E = ENDC # E = End\n",
    "    \n",
    "print(color_font.S+\"Datasets & Libraries loaded\"+color_font.E)"
   ]
  },
  {
   "cell_type": "code",
   "execution_count": null,
   "metadata": {},
   "outputs": [],
   "source": [
    "df_b = pd.read_csv('source/yelp_restaurants_business.csv')\n",
    "# df_r = pd.read_csv('source/yelp_restaurants_reviews.csv')\n",
    "df_u = pd.read_csv('source/yelp_restaurants_users.csv')"
   ]
  },
  {
   "cell_type": "code",
   "execution_count": null,
   "metadata": {},
   "outputs": [],
   "source": [
    "df_b = df_b[['business_id', 'name', 'address', 'city', 'state',\n",
    "       'postal_code','stars', 'review_count', 'categories', 'hours']]\n",
    "df_u = df_u[['user_id', 'name', 'review_count', 'yelping_since',\n",
    "       'useful', 'funny', 'cool', 'elite', 'friends', 'fans', 'average_stars',\n",
    "       'compliment_hot', 'compliment_more', 'compliment_profile',\n",
    "       'compliment_cute', 'compliment_list', 'compliment_note',\n",
    "       'compliment_plain', 'compliment_cool', 'compliment_funny',\n",
    "       'compliment_writer', 'compliment_photos']]"
   ]
  },
  {
   "cell_type": "code",
   "execution_count": null,
   "metadata": {},
   "outputs": [],
   "source": [
    "df_b.head()"
   ]
  },
  {
   "cell_type": "code",
   "execution_count": null,
   "metadata": {},
   "outputs": [],
   "source": [
    "df_u.iloc[:,:10].head()"
   ]
  },
  {
   "cell_type": "code",
   "execution_count": null,
   "metadata": {},
   "outputs": [],
   "source": [
    "df_u.iloc[:,10:].head()"
   ]
  },
  {
   "cell_type": "markdown",
   "metadata": {},
   "source": [
    "# Clean Variables"
   ]
  },
  {
   "cell_type": "code",
   "execution_count": null,
   "metadata": {},
   "outputs": [],
   "source": [
    "df_u['elite'] = df_u['elite'].str.replace('20,20', '2020')\n",
    "df_u['n_elite'] = df_u['elite'].str.replace('20,20','2020').str.count(',', flags=0).fillna(0)\n",
    "df_u['n_friends'] = df_u['friends'].str.count(',', flags=0).fillna(0)\n",
    "df_u['member_for'] = max(df_u['yelping_since'])-df_u['yelping_since']"
   ]
  },
  {
   "cell_type": "code",
   "execution_count": null,
   "metadata": {},
   "outputs": [],
   "source": [
    "sns.kdeplot(df_u['member_for'].dt.days)"
   ]
  },
  {
   "cell_type": "code",
   "execution_count": null,
   "metadata": {},
   "outputs": [],
   "source": [
    "df_u['rv_per_yr'] = np.log(df_u['review_count']/df_u['member_for'].dt.seconds*60*60*24)"
   ]
  },
  {
   "cell_type": "code",
   "execution_count": null,
   "metadata": {},
   "outputs": [],
   "source": [
    "df_u['n_elite_cat'] = np.where(df_u['n_elite']==0, 'Never Elite', 'Elite')"
   ]
  },
  {
   "cell_type": "code",
   "execution_count": null,
   "metadata": {},
   "outputs": [],
   "source": [
    "ax = sns.boxplot(x='n_elite_cat', y='rv_per_yr', data=df_u)"
   ]
  },
  {
   "cell_type": "code",
   "execution_count": null,
   "metadata": {},
   "outputs": [],
   "source": [
    "df_u['n_friends_bins'] = pd.cut(df_u['n_friends'], bins=5, labels=[\"lowest\", \"low\", \"mid\", \"high\", \"highest\"])"
   ]
  },
  {
   "cell_type": "code",
   "execution_count": null,
   "metadata": {},
   "outputs": [],
   "source": [
    "pd.cut(df_u['n_friends'], bins=5).value_counts()"
   ]
  },
  {
   "cell_type": "code",
   "execution_count": null,
   "metadata": {},
   "outputs": [],
   "source": [
    "df_u['n_friends_bins'] = pd.qcut(df_u['n_friends'].rank(method='first'), q=5, labels=[\"lowest\", \"low\", \"mid\", \"high\", \"highest\"])"
   ]
  },
  {
   "cell_type": "code",
   "execution_count": null,
   "metadata": {},
   "outputs": [],
   "source": [
    "df_u['n_friends'].describe(percentiles=[0, .25, .5, .75, .85, .95, 1])"
   ]
  },
  {
   "cell_type": "code",
   "execution_count": null,
   "metadata": {},
   "outputs": [],
   "source": [
    "df_u['n_friends_bins'].describe()"
   ]
  },
  {
   "cell_type": "code",
   "execution_count": null,
   "metadata": {},
   "outputs": [],
   "source": [
    "sns.catplot(x='n_elite_cat', hue='n_friends_bins', kind='count', data=df_u, height=3)"
   ]
  },
  {
   "cell_type": "code",
   "execution_count": null,
   "metadata": {},
   "outputs": [],
   "source": [
    "df_u[(df_u['member_for'].dt.days<1)]"
   ]
  },
  {
   "cell_type": "code",
   "execution_count": null,
   "metadata": {},
   "outputs": [],
   "source": [
    "df_u['rv_per_yr'].describe()"
   ]
  },
  {
   "cell_type": "code",
   "execution_count": null,
   "metadata": {},
   "outputs": [],
   "source": [
    "df_u_elite_years = df_u[['user_id', 'elite']].assign(elite_yrs=df_u['elite'].str.split(',')).explode('elite_yrs').drop(['elite'],axis=1)\n",
    "df_u_elite_years['elite_yrs'] = df_u_elite_years['elite_yrs'].str.strip().astype('datetime64[ns]') \n",
    "df_u_elite_years['elite_yrs_shift'] = df_u_elite_years['elite_yrs'].shift(-1)\n",
    "df_u_elite_years['var'] = df_u_elite_years['elite_yrs_shift']-df_u_elite_years['elite_yrs']\n",
    "df_u_elite_years['flag'] = np.where(df_u_elite_years['var']>'400 days', 1, 0)\n",
    "df_u['n_return'] = df_u_elite_years.groupby('user_id')['flag'].sum().values\n",
    "df_u['n_return'].value_counts()"
   ]
  },
  {
   "cell_type": "code",
   "execution_count": null,
   "metadata": {},
   "outputs": [],
   "source": [
    "df_u['yelping_since'] = pd.to_datetime(df_u['yelping_since'])"
   ]
  },
  {
   "cell_type": "code",
   "execution_count": null,
   "metadata": {},
   "outputs": [],
   "source": [
    "df_u['yelping_since'].describe(datetime_is_numeric=True)"
   ]
  },
  {
   "cell_type": "code",
   "execution_count": null,
   "metadata": {},
   "outputs": [],
   "source": [
    "df_u['useful_perc'] = df_u['useful']/df_u['review_count']"
   ]
  },
  {
   "cell_type": "code",
   "execution_count": null,
   "metadata": {},
   "outputs": [],
   "source": [
    "df_u['useful_perc'].describe()"
   ]
  },
  {
   "cell_type": "code",
   "execution_count": null,
   "metadata": {},
   "outputs": [],
   "source": [
    "# explode the categories!\n",
    "df_explode = df_b.assign(\n",
    "    categories=df_b['categories'].str.split(', ')). \\\n",
    "        explode('categories')"
   ]
  },
  {
   "cell_type": "code",
   "execution_count": null,
   "metadata": {},
   "outputs": [],
   "source": [
    "df_explode['categories'].value_counts()[:10]"
   ]
  },
  {
   "cell_type": "code",
   "execution_count": null,
   "metadata": {},
   "outputs": [],
   "source": [
    "df_b.groupby(['name', 'city', 'state', 'business_id'])['review_count'].sum().sort_values(ascending=False)[:10]"
   ]
  },
  {
   "cell_type": "code",
   "execution_count": null,
   "metadata": {},
   "outputs": [],
   "source": [
    "fig, ax = plt.subplots(figsize=(4,2))\n",
    "sns.histplot(data=df_u[\"average_stars\"], binwidth=2, discrete=True, ax=ax)\n",
    "plt.show()"
   ]
  },
  {
   "cell_type": "markdown",
   "metadata": {},
   "source": [
    "Does X cause Y?"
   ]
  },
  {
   "cell_type": "code",
   "execution_count": null,
   "metadata": {},
   "outputs": [],
   "source": [
    "df_b['review_count'].plot()"
   ]
  }
 ],
 "metadata": {
  "interpreter": {
   "hash": "8f4b11322fc0f8d2b749ee34b062543f88d941625e87d891a02d4fe8ee9ada7e"
  },
  "kernelspec": {
   "display_name": "Python 3.8.11 64-bit ('base': conda)",
   "language": "python",
   "name": "python3"
  },
  "language_info": {
   "codemirror_mode": {
    "name": "ipython",
    "version": 3
   },
   "file_extension": ".py",
   "mimetype": "text/x-python",
   "name": "python",
   "nbconvert_exporter": "python",
   "pygments_lexer": "ipython3",
   "version": "3.8.11"
  },
  "orig_nbformat": 4
 },
 "nbformat": 4,
 "nbformat_minor": 2
}
