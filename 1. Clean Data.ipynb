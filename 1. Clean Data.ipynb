{
 "cells": [
  {
   "cell_type": "markdown",
   "metadata": {},
   "source": [
    "# Configure Settings"
   ]
  },
  {
   "cell_type": "code",
   "execution_count": 1,
   "metadata": {},
   "outputs": [],
   "source": [
    "import pandas as pd\n",
    "import numpy as np\n",
    "import seaborn as sns\n",
    "import matplotlib.pyplot as plt\n",
    "\n",
    "import re\n",
    "import ast\n",
    "import os\n",
    "\n",
    "from utils import *\n",
    "\n",
    "# configure display options\n",
    "pd.options.display.max_rows = 500  # can set to `None`\n",
    "pd.options.display.max_columns = 500  # can set to `None`\n",
    "pd.options.display.max_colwidth = 30\n",
    "pd.options.display.float_format = '{:,.2f}'.format\n",
    "np.set_printoptions(precision=3, suppress=True)\n",
    "# warnings.filterwarnings('ignore')\n",
    "\n",
    "# track runtime\n",
    "# t0 = perf_counter()"
   ]
  },
  {
   "cell_type": "code",
   "execution_count": 2,
   "metadata": {},
   "outputs": [
    {
     "data": {
      "text/html": [
       "<style>\n",
       ".dataframe td {\n",
       "    white-space: nowrap;\n",
       "}\n",
       "</style>\n"
      ],
      "text/plain": [
       "<IPython.core.display.HTML object>"
      ]
     },
     "metadata": {},
     "output_type": "display_data"
    }
   ],
   "source": [
    "%%html\n",
    "<style>\n",
    ".dataframe td {\n",
    "    white-space: nowrap;\n",
    "}\n",
    "</style>"
   ]
  },
  {
   "cell_type": "markdown",
   "metadata": {},
   "source": [
    "# Load Data"
   ]
  },
  {
   "cell_type": "code",
   "execution_count": 3,
   "metadata": {},
   "outputs": [
    {
     "name": "stdout",
     "output_type": "stream",
     "text": [
      "source/orig\\yelp_academic_dataset_business.json\n",
      "source/orig\\yelp_academic_dataset_user.json\n",
      "source/orig\\yelp_academic_dataset_review.json\n"
     ]
    }
   ],
   "source": [
    "for dirname, _, filenames in os.walk('source/orig'):\n",
    "    for filename in filenames:\n",
    "        print(os.path.join(dirname, filename))"
   ]
  },
  {
   "cell_type": "code",
   "execution_count": 4,
   "metadata": {},
   "outputs": [
    {
     "name": "stdout",
     "output_type": "stream",
     "text": [
      "  File: yelp_academic_dataset_business\n",
      "Memory: 195,875,702 bytes\n",
      " Shape: (160585, 14)\n",
      "\n",
      "Finished 'load_print_data' in 3.705 secs\n",
      "\n"
     ]
    },
    {
     "data": {
      "text/html": [
       "<div>\n",
       "<style scoped>\n",
       "    .dataframe tbody tr th:only-of-type {\n",
       "        vertical-align: middle;\n",
       "    }\n",
       "\n",
       "    .dataframe tbody tr th {\n",
       "        vertical-align: top;\n",
       "    }\n",
       "\n",
       "    .dataframe thead th {\n",
       "        text-align: right;\n",
       "    }\n",
       "</style>\n",
       "<table border=\"1\" class=\"dataframe\">\n",
       "  <thead>\n",
       "    <tr style=\"text-align: right;\">\n",
       "      <th></th>\n",
       "      <th>business_id</th>\n",
       "      <th>name</th>\n",
       "      <th>address</th>\n",
       "      <th>city</th>\n",
       "      <th>state</th>\n",
       "      <th>postal_code</th>\n",
       "      <th>latitude</th>\n",
       "      <th>longitude</th>\n",
       "      <th>stars</th>\n",
       "      <th>review_count</th>\n",
       "      <th>is_open</th>\n",
       "      <th>attributes</th>\n",
       "      <th>categories</th>\n",
       "      <th>hours</th>\n",
       "    </tr>\n",
       "  </thead>\n",
       "  <tbody>\n",
       "    <tr>\n",
       "      <th>0</th>\n",
       "      <td>6iYb2HFDywm3zjuRg0shjw</td>\n",
       "      <td>Oskar Blues Taproom</td>\n",
       "      <td>921 Pearl St</td>\n",
       "      <td>Boulder</td>\n",
       "      <td>CO</td>\n",
       "      <td>80302</td>\n",
       "      <td>40.02</td>\n",
       "      <td>-105.28</td>\n",
       "      <td>4.00</td>\n",
       "      <td>86</td>\n",
       "      <td>1</td>\n",
       "      <td>{'RestaurantsTableService'...</td>\n",
       "      <td>Gastropubs, Food, Beer Gar...</td>\n",
       "      <td>{'Monday': '11:0-23:0', 'T...</td>\n",
       "    </tr>\n",
       "    <tr>\n",
       "      <th>1</th>\n",
       "      <td>tCbdrRPZA0oiIYSmHG3J0w</td>\n",
       "      <td>Flying Elephants at PDX</td>\n",
       "      <td>7000 NE Airport Way</td>\n",
       "      <td>Portland</td>\n",
       "      <td>OR</td>\n",
       "      <td>97218</td>\n",
       "      <td>45.59</td>\n",
       "      <td>-122.59</td>\n",
       "      <td>4.00</td>\n",
       "      <td>126</td>\n",
       "      <td>1</td>\n",
       "      <td>{'RestaurantsTakeOut': 'Tr...</td>\n",
       "      <td>Salad, Soup, Sandwiches, D...</td>\n",
       "      <td>{'Monday': '5:0-18:0', 'Tu...</td>\n",
       "    </tr>\n",
       "    <tr>\n",
       "      <th>2</th>\n",
       "      <td>bvN78flM8NLprQ1a1y5dRg</td>\n",
       "      <td>The Reclaimory</td>\n",
       "      <td>4720 Hawthorne Ave</td>\n",
       "      <td>Portland</td>\n",
       "      <td>OR</td>\n",
       "      <td>97214</td>\n",
       "      <td>45.51</td>\n",
       "      <td>-122.61</td>\n",
       "      <td>4.50</td>\n",
       "      <td>13</td>\n",
       "      <td>1</td>\n",
       "      <td>{'BusinessAcceptsCreditCar...</td>\n",
       "      <td>Antiques, Fashion, Used, V...</td>\n",
       "      <td>{'Thursday': '11:0-18:0', ...</td>\n",
       "    </tr>\n",
       "    <tr>\n",
       "      <th>3</th>\n",
       "      <td>oaepsyvc0J17qwi8cfrOWg</td>\n",
       "      <td>Great Clips</td>\n",
       "      <td>2566 Enterprise Rd</td>\n",
       "      <td>Orange City</td>\n",
       "      <td>FL</td>\n",
       "      <td>32763</td>\n",
       "      <td>28.91</td>\n",
       "      <td>-81.30</td>\n",
       "      <td>3.00</td>\n",
       "      <td>8</td>\n",
       "      <td>1</td>\n",
       "      <td>{'RestaurantsPriceRange2':...</td>\n",
       "      <td>Beauty &amp; Spas, Hair Salons</td>\n",
       "      <td>None</td>\n",
       "    </tr>\n",
       "    <tr>\n",
       "      <th>4</th>\n",
       "      <td>PE9uqAjdw0E4-8mjGl3wVA</td>\n",
       "      <td>Crossfit Terminus</td>\n",
       "      <td>1046 Memorial Dr SE</td>\n",
       "      <td>Atlanta</td>\n",
       "      <td>GA</td>\n",
       "      <td>30316</td>\n",
       "      <td>33.75</td>\n",
       "      <td>-84.35</td>\n",
       "      <td>4.00</td>\n",
       "      <td>14</td>\n",
       "      <td>1</td>\n",
       "      <td>{'GoodForKids': 'False', '...</td>\n",
       "      <td>Gyms, Active Life, Interva...</td>\n",
       "      <td>{'Monday': '16:0-19:0', 'T...</td>\n",
       "    </tr>\n",
       "  </tbody>\n",
       "</table>\n",
       "</div>"
      ],
      "text/plain": [
       "              business_id                     name              address  \\\n",
       "0  6iYb2HFDywm3zjuRg0shjw      Oskar Blues Taproom         921 Pearl St   \n",
       "1  tCbdrRPZA0oiIYSmHG3J0w  Flying Elephants at PDX  7000 NE Airport Way   \n",
       "2  bvN78flM8NLprQ1a1y5dRg           The Reclaimory   4720 Hawthorne Ave   \n",
       "3  oaepsyvc0J17qwi8cfrOWg              Great Clips   2566 Enterprise Rd   \n",
       "4  PE9uqAjdw0E4-8mjGl3wVA        Crossfit Terminus  1046 Memorial Dr SE   \n",
       "\n",
       "          city state postal_code  latitude  longitude  stars  review_count  \\\n",
       "0      Boulder    CO       80302     40.02    -105.28   4.00            86   \n",
       "1     Portland    OR       97218     45.59    -122.59   4.00           126   \n",
       "2     Portland    OR       97214     45.51    -122.61   4.50            13   \n",
       "3  Orange City    FL       32763     28.91     -81.30   3.00             8   \n",
       "4      Atlanta    GA       30316     33.75     -84.35   4.00            14   \n",
       "\n",
       "   is_open                     attributes                     categories  \\\n",
       "0        1  {'RestaurantsTableService'...  Gastropubs, Food, Beer Gar...   \n",
       "1        1  {'RestaurantsTakeOut': 'Tr...  Salad, Soup, Sandwiches, D...   \n",
       "2        1  {'BusinessAcceptsCreditCar...  Antiques, Fashion, Used, V...   \n",
       "3        1  {'RestaurantsPriceRange2':...     Beauty & Spas, Hair Salons   \n",
       "4        1  {'GoodForKids': 'False', '...  Gyms, Active Life, Interva...   \n",
       "\n",
       "                           hours  \n",
       "0  {'Monday': '11:0-23:0', 'T...  \n",
       "1  {'Monday': '5:0-18:0', 'Tu...  \n",
       "2  {'Thursday': '11:0-18:0', ...  \n",
       "3                           None  \n",
       "4  {'Monday': '16:0-19:0', 'T...  "
      ]
     },
     "execution_count": 4,
     "metadata": {},
     "output_type": "execute_result"
    }
   ],
   "source": [
    "path, filename, filetype = 'source/orig/', 'yelp_academic_dataset_business', 'json'\n",
    "df_b = load_print_data(path, filename, filetype)\n",
    "df_b.head()"
   ]
  },
  {
   "cell_type": "code",
   "execution_count": 5,
   "metadata": {},
   "outputs": [],
   "source": [
    "# filter only open business\n",
    "df_b = df_b[df_b['is_open']==1]\n",
    "\n",
    "# filter entries containing restaurant or food under categories\n",
    "condition = df_b['categories'].str.contains('restaurant|food', regex=True, flags=re.I)\n",
    "df_b = df_b[condition==True].reset_index(drop=True)"
   ]
  },
  {
   "cell_type": "code",
   "execution_count": 6,
   "metadata": {},
   "outputs": [
    {
     "data": {
      "text/plain": [
       "(41768, 14)"
      ]
     },
     "execution_count": 6,
     "metadata": {},
     "output_type": "execute_result"
    }
   ],
   "source": [
    "df_b.shape"
   ]
  },
  {
   "cell_type": "markdown",
   "metadata": {},
   "source": [
    "# Make Nested Columns Usable"
   ]
  },
  {
   "cell_type": "markdown",
   "metadata": {},
   "source": [
    "## Examine Nested Columns and Value Gained per Extraction"
   ]
  },
  {
   "cell_type": "code",
   "execution_count": 7,
   "metadata": {},
   "outputs": [],
   "source": [
    "def plot_freq(df_from, col, bins=None, nested=False):\n",
    "    df_from = df_from.copy()\n",
    "    df_from[col] = df_from[col].str.len().fillna(0) if nested else df_from[col]\n",
    "    _, (ax1, ax2) = plt.subplots(2, figsize=(8,4), sharex=True)\n",
    "    bins = int(max(df_from[col])) if bins==None else bins\n",
    "    count, bin_count = np.histogram(df_from[col], bins=bins)\n",
    "    pmf = count/sum(count)\n",
    "    cdf = np.cumsum(pmf)\n",
    "    ax1.plot(bin_count[1:], cdf, label='CDF')\n",
    "    ax2.plot(bin_count[1:], pmf, label='PMF')\n",
    "    ax2.set_xlabel(f'Count of {col.title()}')\n",
    "    ax1.set_ylabel('Probability')\n",
    "    ax2.set_ylabel('Probability')\n",
    "    ax1.set_title(f'CDF and PMF for Count of {col.title()}')\n",
    "    ax1.legend()\n",
    "    ax2.legend()\n",
    "    plt.show()"
   ]
  },
  {
   "cell_type": "code",
   "execution_count": 8,
   "metadata": {},
   "outputs": [
    {
     "data": {
      "image/png": "[encoded data removed]",
      "text/plain": [
       "<Figure size 576x288 with 2 Axes>"
      ]
     },
     "metadata": {
      "needs_background": "light"
     },
     "output_type": "display_data"
    }
   ],
   "source": [
    "plot_freq(df_b, 'attributes', nested=True)"
   ]
  },
  {
   "cell_type": "code",
   "execution_count": 9,
   "metadata": {},
   "outputs": [
    {
     "data": {
      "image/png": "[encoded data removed]",
      "text/plain": [
       "<Figure size 576x288 with 2 Axes>"
      ]
     },
     "metadata": {
      "needs_background": "light"
     },
     "output_type": "display_data"
    }
   ],
   "source": [
    "plot_freq(df_b, 'hours', nested=True)"
   ]
  },
  {
   "cell_type": "markdown",
   "metadata": {},
   "source": [
    "## Extract Business Hours"
   ]
  },
  {
   "cell_type": "code",
   "execution_count": 10,
   "metadata": {},
   "outputs": [],
   "source": [
    "# parse business hours column\n",
    "df_hrs_norm = pd.json_normalize(df_b['hours'])\n",
    "\n",
    "# make a new column\n",
    "df_b['days_open'] = df_hrs_norm.notnull().sum(axis=1)\n",
    "\n",
    "# extract open and close hours for each day the business is open\n",
    "df_hrs = pd.DataFrame()\n",
    "for day in df_hrs_norm.columns:\n",
    "    df_day_time = df_hrs_norm[day].str.split('-', expand=True).rename({0:f'{day}_start', 1:f'{day}_end'}, axis=1)\n",
    "    for col in df_day_time.columns:\n",
    "        df_day_time[col] = pd.to_datetime(df_day_time[col], format='%H:%M')\n",
    "    df_hrs = pd.concat([df_hrs, df_day_time], axis=1)"
   ]
  },
  {
   "cell_type": "code",
   "execution_count": 11,
   "metadata": {},
   "outputs": [],
   "source": [
    "# extract duration business hours for each day the business is open\n",
    "for i in range(1, 14, 2):\n",
    "    df_hrs[df_hrs.iloc[:, i].name.split('_')[0] + '_dur'] = df_hrs.iloc[:, i] - df_hrs.iloc[:, i-1]"
   ]
  },
  {
   "cell_type": "markdown",
   "metadata": {},
   "source": [
    "## Fix Negative Business Hours"
   ]
  },
  {
   "cell_type": "code",
   "execution_count": 23,
   "metadata": {},
   "outputs": [
    {
     "name": "stdout",
     "output_type": "stream",
     "text": [
      "(881, 21)\n"
     ]
    },
    {
     "data": {
      "text/html": [
       "<div>\n",
       "<style scoped>\n",
       "    .dataframe tbody tr th:only-of-type {\n",
       "        vertical-align: middle;\n",
       "    }\n",
       "\n",
       "    .dataframe tbody tr th {\n",
       "        vertical-align: top;\n",
       "    }\n",
       "\n",
       "    .dataframe thead th {\n",
       "        text-align: right;\n",
       "    }\n",
       "</style>\n",
       "<table border=\"1\" class=\"dataframe\">\n",
       "  <thead>\n",
       "    <tr style=\"text-align: right;\">\n",
       "      <th></th>\n",
       "      <th>Monday_start</th>\n",
       "      <th>Monday_end</th>\n",
       "      <th>Tuesday_start</th>\n",
       "      <th>Tuesday_end</th>\n",
       "      <th>Wednesday_start</th>\n",
       "      <th>Wednesday_end</th>\n",
       "      <th>Thursday_start</th>\n",
       "      <th>Thursday_end</th>\n",
       "      <th>Friday_start</th>\n",
       "      <th>Friday_end</th>\n",
       "      <th>Saturday_start</th>\n",
       "      <th>Saturday_end</th>\n",
       "      <th>Sunday_start</th>\n",
       "      <th>Sunday_end</th>\n",
       "      <th>Monday_dur</th>\n",
       "      <th>Tuesday_dur</th>\n",
       "      <th>Wednesday_dur</th>\n",
       "      <th>Thursday_dur</th>\n",
       "      <th>Friday_dur</th>\n",
       "      <th>Saturday_dur</th>\n",
       "      <th>Sunday_dur</th>\n",
       "    </tr>\n",
       "  </thead>\n",
       "  <tbody>\n",
       "    <tr>\n",
       "      <th>184</th>\n",
       "      <td>1900-01-01 16:00:00</td>\n",
       "      <td>1900-01-01 23:00:00</td>\n",
       "      <td>1900-01-01 16:00:00</td>\n",
       "      <td>1900-01-01 23:00:00</td>\n",
       "      <td>1900-01-01 16:00:00</td>\n",
       "      <td>1900-01-01 23:00:00</td>\n",
       "      <td>1900-01-01 16:00:00</td>\n",
       "      <td>1900-01-01 23:00:00</td>\n",
       "      <td>1900-01-01 16:00:00</td>\n",
       "      <td>1900-01-01 12:30:00</td>\n",
       "      <td>1900-01-01 16:00:00</td>\n",
       "      <td>1900-01-01 12:30:00</td>\n",
       "      <td>1900-01-01 16:00:00</td>\n",
       "      <td>1900-01-01 23:00:00</td>\n",
       "      <td>0 days 07:00:00</td>\n",
       "      <td>0 days 07:00:00</td>\n",
       "      <td>0 days 07:00:00</td>\n",
       "      <td>0 days 07:00:00</td>\n",
       "      <td>-1 days +20:30:00</td>\n",
       "      <td>-1 days +20:30:00</td>\n",
       "      <td>0 days 07:00:00</td>\n",
       "    </tr>\n",
       "    <tr>\n",
       "      <th>213</th>\n",
       "      <td>NaT</td>\n",
       "      <td>NaT</td>\n",
       "      <td>NaT</td>\n",
       "      <td>NaT</td>\n",
       "      <td>NaT</td>\n",
       "      <td>NaT</td>\n",
       "      <td>NaT</td>\n",
       "      <td>NaT</td>\n",
       "      <td>1900-01-01 19:00:00</td>\n",
       "      <td>1900-01-01 14:00:00</td>\n",
       "      <td>1900-01-01 19:00:00</td>\n",
       "      <td>1900-01-01 14:00:00</td>\n",
       "      <td>NaT</td>\n",
       "      <td>NaT</td>\n",
       "      <td>NaT</td>\n",
       "      <td>NaT</td>\n",
       "      <td>NaT</td>\n",
       "      <td>NaT</td>\n",
       "      <td>-1 days +19:00:00</td>\n",
       "      <td>-1 days +19:00:00</td>\n",
       "      <td>NaT</td>\n",
       "    </tr>\n",
       "    <tr>\n",
       "      <th>328</th>\n",
       "      <td>NaT</td>\n",
       "      <td>NaT</td>\n",
       "      <td>NaT</td>\n",
       "      <td>NaT</td>\n",
       "      <td>NaT</td>\n",
       "      <td>NaT</td>\n",
       "      <td>NaT</td>\n",
       "      <td>NaT</td>\n",
       "      <td>1900-01-01 18:00:00</td>\n",
       "      <td>1900-01-01 13:00:00</td>\n",
       "      <td>1900-01-01 18:00:00</td>\n",
       "      <td>1900-01-01 13:00:00</td>\n",
       "      <td>1900-01-01 18:00:00</td>\n",
       "      <td>1900-01-01 13:00:00</td>\n",
       "      <td>NaT</td>\n",
       "      <td>NaT</td>\n",
       "      <td>NaT</td>\n",
       "      <td>NaT</td>\n",
       "      <td>-1 days +19:00:00</td>\n",
       "      <td>-1 days +19:00:00</td>\n",
       "      <td>-1 days +19:00:00</td>\n",
       "    </tr>\n",
       "    <tr>\n",
       "      <th>382</th>\n",
       "      <td>1900-01-01 16:00:00</td>\n",
       "      <td>1900-01-01 14:00:00</td>\n",
       "      <td>1900-01-01 16:00:00</td>\n",
       "      <td>1900-01-01 14:00:00</td>\n",
       "      <td>1900-01-01 16:00:00</td>\n",
       "      <td>1900-01-01 14:00:00</td>\n",
       "      <td>1900-01-01 16:00:00</td>\n",
       "      <td>1900-01-01 14:00:00</td>\n",
       "      <td>1900-01-01 16:00:00</td>\n",
       "      <td>1900-01-01 14:00:00</td>\n",
       "      <td>1900-01-01 14:00:00</td>\n",
       "      <td>1900-01-01 14:00:00</td>\n",
       "      <td>1900-01-01 14:00:00</td>\n",
       "      <td>1900-01-02 00:00:00</td>\n",
       "      <td>-1 days +22:00:00</td>\n",
       "      <td>-1 days +22:00:00</td>\n",
       "      <td>-1 days +22:00:00</td>\n",
       "      <td>-1 days +22:00:00</td>\n",
       "      <td>-1 days +22:00:00</td>\n",
       "      <td>0 days 00:00:00</td>\n",
       "      <td>0 days 10:00:00</td>\n",
       "    </tr>\n",
       "    <tr>\n",
       "      <th>421</th>\n",
       "      <td>1900-01-01 11:00:00</td>\n",
       "      <td>1900-01-01 13:00:00</td>\n",
       "      <td>1900-01-01 11:00:00</td>\n",
       "      <td>1900-01-01 13:00:00</td>\n",
       "      <td>1900-01-01 11:00:00</td>\n",
       "      <td>1900-01-01 13:00:00</td>\n",
       "      <td>1900-01-01 17:00:00</td>\n",
       "      <td>1900-01-01 13:00:00</td>\n",
       "      <td>1900-01-01 11:00:00</td>\n",
       "      <td>1900-01-01 13:00:00</td>\n",
       "      <td>1900-01-01 11:00:00</td>\n",
       "      <td>1900-01-01 13:00:00</td>\n",
       "      <td>1900-01-01 12:00:00</td>\n",
       "      <td>1900-01-01 13:00:00</td>\n",
       "      <td>0 days 02:00:00</td>\n",
       "      <td>0 days 02:00:00</td>\n",
       "      <td>0 days 02:00:00</td>\n",
       "      <td>-1 days +20:00:00</td>\n",
       "      <td>0 days 02:00:00</td>\n",
       "      <td>0 days 02:00:00</td>\n",
       "      <td>0 days 01:00:00</td>\n",
       "    </tr>\n",
       "  </tbody>\n",
       "</table>\n",
       "</div>"
      ],
      "text/plain": [
       "           Monday_start          Monday_end       Tuesday_start  \\\n",
       "184 1900-01-01 16:00:00 1900-01-01 23:00:00 1900-01-01 16:00:00   \n",
       "213                 NaT                 NaT                 NaT   \n",
       "328                 NaT                 NaT                 NaT   \n",
       "382 1900-01-01 16:00:00 1900-01-01 14:00:00 1900-01-01 16:00:00   \n",
       "421 1900-01-01 11:00:00 1900-01-01 13:00:00 1900-01-01 11:00:00   \n",
       "\n",
       "            Tuesday_end     Wednesday_start       Wednesday_end  \\\n",
       "184 1900-01-01 23:00:00 1900-01-01 16:00:00 1900-01-01 23:00:00   \n",
       "213                 NaT                 NaT                 NaT   \n",
       "328                 NaT                 NaT                 NaT   \n",
       "382 1900-01-01 14:00:00 1900-01-01 16:00:00 1900-01-01 14:00:00   \n",
       "421 1900-01-01 13:00:00 1900-01-01 11:00:00 1900-01-01 13:00:00   \n",
       "\n",
       "         Thursday_start        Thursday_end        Friday_start  \\\n",
       "184 1900-01-01 16:00:00 1900-01-01 23:00:00 1900-01-01 16:00:00   \n",
       "213                 NaT                 NaT 1900-01-01 19:00:00   \n",
       "328                 NaT                 NaT 1900-01-01 18:00:00   \n",
       "382 1900-01-01 16:00:00 1900-01-01 14:00:00 1900-01-01 16:00:00   \n",
       "421 1900-01-01 17:00:00 1900-01-01 13:00:00 1900-01-01 11:00:00   \n",
       "\n",
       "             Friday_end      Saturday_start        Saturday_end  \\\n",
       "184 1900-01-01 12:30:00 1900-01-01 16:00:00 1900-01-01 12:30:00   \n",
       "213 1900-01-01 14:00:00 1900-01-01 19:00:00 1900-01-01 14:00:00   \n",
       "328 1900-01-01 13:00:00 1900-01-01 18:00:00 1900-01-01 13:00:00   \n",
       "382 1900-01-01 14:00:00 1900-01-01 14:00:00 1900-01-01 14:00:00   \n",
       "421 1900-01-01 13:00:00 1900-01-01 11:00:00 1900-01-01 13:00:00   \n",
       "\n",
       "           Sunday_start          Sunday_end        Monday_dur  \\\n",
       "184 1900-01-01 16:00:00 1900-01-01 23:00:00   0 days 07:00:00   \n",
       "213                 NaT                 NaT               NaT   \n",
       "328 1900-01-01 18:00:00 1900-01-01 13:00:00               NaT   \n",
       "382 1900-01-01 14:00:00 1900-01-02 00:00:00 -1 days +22:00:00   \n",
       "421 1900-01-01 12:00:00 1900-01-01 13:00:00   0 days 02:00:00   \n",
       "\n",
       "          Tuesday_dur     Wednesday_dur      Thursday_dur        Friday_dur  \\\n",
       "184   0 days 07:00:00   0 days 07:00:00   0 days 07:00:00 -1 days +20:30:00   \n",
       "213               NaT               NaT               NaT -1 days +19:00:00   \n",
       "328               NaT               NaT               NaT -1 days +19:00:00   \n",
       "382 -1 days +22:00:00 -1 days +22:00:00 -1 days +22:00:00 -1 days +22:00:00   \n",
       "421   0 days 02:00:00   0 days 02:00:00 -1 days +20:00:00   0 days 02:00:00   \n",
       "\n",
       "         Saturday_dur        Sunday_dur  \n",
       "184 -1 days +20:30:00   0 days 07:00:00  \n",
       "213 -1 days +19:00:00               NaT  \n",
       "328 -1 days +19:00:00 -1 days +19:00:00  \n",
       "382   0 days 00:00:00   0 days 10:00:00  \n",
       "421   0 days 02:00:00   0 days 01:00:00  "
      ]
     },
     "execution_count": 23,
     "metadata": {},
     "output_type": "execute_result"
    }
   ],
   "source": [
    "# examine negative duration to fix errors in data\n",
    "neg_dur = df_hrs[[i for i in df_hrs.columns if 'dur' in i]]<pd.Timedelta(0)\n",
    "# across cols if any are True filter only that data\n",
    "neg_dur = neg_dur.query(' or '.join([i for i in df_hrs.columns if 'dur' in i])) \n",
    "df_neg_dur = df_hrs[df_hrs.index.isin(neg_dur.index)]\n",
    "print(df_neg_dur.shape)\n",
    "df_neg_dur.head()"
   ]
  },
  {
   "cell_type": "code",
   "execution_count": 29,
   "metadata": {},
   "outputs": [],
   "source": [
    "# clean up hours to adjust for negative durations\n",
    "for prefix in ['Monday', 'Tuesday', 'Wednesday', 'Thursday', 'Friday', 'Saturday', 'Sunday']:\n",
    "    r = (df_hrs[prefix + '_dur']<pd.Timedelta(0)) \n",
    "    df_hrs[prefix + '_end'] = np.where(r & (df_hrs[prefix + '_end']==pd.Timestamp('1900-01-01 00:00:00')), \n",
    "        df_hrs[prefix + '_end'] + pd.Timedelta(days=1),\n",
    "            np.where(r & (df_hrs[prefix + '_end']!=pd.Timestamp('1900-01-01 00:00:00')), \n",
    "                df_hrs[prefix + '_end'] + pd.Timedelta(hours=12), df_hrs[prefix + '_end']))"
   ]
  },
  {
   "cell_type": "code",
   "execution_count": 30,
   "metadata": {},
   "outputs": [],
   "source": [
    "# extract duration for each day\n",
    "for i in range(1, 14, 2):\n",
    "    df_hrs[df_hrs.iloc[:, i].name.split('_')[0] + '_dur'] = df_hrs.iloc[:, i] - df_hrs.iloc[:, i-1]"
   ]
  },
  {
   "cell_type": "code",
   "execution_count": 32,
   "metadata": {},
   "outputs": [
    {
     "name": "stdout",
     "output_type": "stream",
     "text": [
      "(0, 21)\n"
     ]
    }
   ],
   "source": [
    "neg_dur = df_hrs[[i for i in df_hrs.columns if 'dur' in i]]<pd.Timedelta(0)\n",
    "neg_dur = neg_dur.query(' or '.join([i for i in df_hrs.columns if 'dur' in i]))\n",
    "df_neg_dur = df_hrs[df_hrs.index.isin(neg_dur.index)]\n",
    "print(df_neg_dur.shape)"
   ]
  },
  {
   "cell_type": "markdown",
   "metadata": {},
   "source": [
    "## Make More Columns with Business Hours"
   ]
  },
  {
   "cell_type": "code",
   "execution_count": 33,
   "metadata": {},
   "outputs": [],
   "source": [
    "# calculate business hours per week\n",
    "df_hrs['hrs_per_wk'] = df_hrs[[i for i in df_hrs.columns if '_dur' in i]].sum(axis=1)\n",
    "df_hrs['wknd_hrs'] = df_hrs[[i for i in df_hrs.columns if '_dur' in i][-3:]].sum(axis=1)\n",
    "df_hrs['wknd_hrs_perc'] = df_hrs['wknd_hrs']/df_hrs['hrs_per_wk']"
   ]
  },
  {
   "cell_type": "code",
   "execution_count": 45,
   "metadata": {},
   "outputs": [],
   "source": [
    "def inspect_null_info(df_from):\n",
    "    null_ct = df_from.isnull().sum()\n",
    "    tot_ct = df_from.shape[0]\n",
    "    print(f'Total Null %: {null_ct/tot_ct*100:,.0f}%', end=' --- ')\n",
    "    print(f'Total Null Ct: {null_ct:,}', end=' --- ')\n",
    "    print(f'Total Data Ct: {tot_ct:,}')"
   ]
  },
  {
   "cell_type": "code",
   "execution_count": 46,
   "metadata": {},
   "outputs": [
    {
     "name": "stdout",
     "output_type": "stream",
     "text": [
      "Total Null %: 15% --- Total Null Ct: 6,098 --- Total Data Ct: 41,768\n"
     ]
    }
   ],
   "source": [
    "inspect_null_info(df_hrs['wknd_hrs_perc'])"
   ]
  },
  {
   "cell_type": "code",
   "execution_count": 47,
   "metadata": {},
   "outputs": [
    {
     "data": {
      "text/plain": [
       "count   35,670.00\n",
       "mean         0.44\n",
       "std          0.11\n",
       "min          0.00\n",
       "25%          0.41\n",
       "50%          0.43\n",
       "75%          0.49\n",
       "max          1.00\n",
       "Name: wknd_hrs_perc, dtype: float64"
      ]
     },
     "execution_count": 47,
     "metadata": {},
     "output_type": "execute_result"
    }
   ],
   "source": [
    "df_hrs['wknd_hrs_perc'].describe()"
   ]
  },
  {
   "cell_type": "code",
   "execution_count": 48,
   "metadata": {},
   "outputs": [
    {
     "data": {
      "image/png": "[encoded data removed]",
      "text/plain": [
       "<Figure size 576x288 with 2 Axes>"
      ]
     },
     "metadata": {
      "needs_background": "light"
     },
     "output_type": "display_data"
    }
   ],
   "source": [
    "plot_freq(df_b.loc[df_b['days_open'].dropna().index.values], 'days_open')"
   ]
  },
  {
   "cell_type": "markdown",
   "metadata": {},
   "source": [
    "# Other Columns to Unnest"
   ]
  },
  {
   "cell_type": "code",
   "execution_count": 49,
   "metadata": {},
   "outputs": [],
   "source": [
    "def unnest_col(df_from, col_lvl1, col_lvl2, col_prefix):\n",
    "    df_out = pd.DataFrame()\n",
    "    for i in range(len(df_from)):\n",
    "        try:\n",
    "            df_to_add = pd.json_normalize(ast.literal_eval(\n",
    "                pd.json_normalize(df_from.loc[i, col_lvl1])[col_lvl2].squeeze())) # .astype(int)\n",
    "            df_to_add.index = [i]\n",
    "        except (KeyError, NotImplementedError):\n",
    "            df_to_add = pd.DataFrame({'noval': np.nan}, index=[i])\n",
    "        df_out = pd.concat([df_out, df_to_add], axis=0)\n",
    "    df_out.drop(['noval'], axis=1, inplace=True)\n",
    "    df_out.columns = [f'{col_prefix}_' + i for i in df_out.columns]\n",
    "    return df_out"
   ]
  },
  {
   "cell_type": "code",
   "execution_count": 50,
   "metadata": {},
   "outputs": [],
   "source": [
    "# df1 = unnest_col(df_b, 'attributes', 'BestNights', 'bn')\n",
    "df2 = unnest_col(df_b, 'attributes', 'BusinessParking', 'bp')\n",
    "df3 = unnest_col(df_b, 'attributes', 'Ambience', 'amb')\n",
    "df4 = unnest_col(df_b, 'attributes', 'GoodForMeal', 'gfm')\n",
    "hrs = pd.json_normalize(df_b['hours'])"
   ]
  },
  {
   "cell_type": "code",
   "execution_count": 51,
   "metadata": {},
   "outputs": [
    {
     "ename": "NameError",
     "evalue": "name 'df1' is not defined",
     "output_type": "error",
     "traceback": [
      "\u001b[1;31m---------------------------------------------------------------------------\u001b[0m",
      "\u001b[1;31mNameError\u001b[0m                                 Traceback (most recent call last)",
      "\u001b[1;32mC:\\Users\\APRILL~1\\AppData\\Local\\Temp/ipykernel_26040/2528666043.py\u001b[0m in \u001b[0;36m<module>\u001b[1;34m\u001b[0m\n\u001b[0;32m      1\u001b[0m \u001b[0mnull_collection\u001b[0m \u001b[1;33m=\u001b[0m \u001b[0mlist\u001b[0m\u001b[1;33m(\u001b[0m\u001b[1;33m)\u001b[0m\u001b[1;33m\u001b[0m\u001b[1;33m\u001b[0m\u001b[0m\n\u001b[1;32m----> 2\u001b[1;33m \u001b[1;32mfor\u001b[0m \u001b[0mdf\u001b[0m \u001b[1;32min\u001b[0m \u001b[1;33m[\u001b[0m\u001b[0mdf1\u001b[0m\u001b[1;33m,\u001b[0m \u001b[0mdf2\u001b[0m\u001b[1;33m,\u001b[0m \u001b[0mdf3\u001b[0m\u001b[1;33m,\u001b[0m \u001b[0mdf4\u001b[0m\u001b[1;33m,\u001b[0m \u001b[0mdf5\u001b[0m\u001b[1;33m,\u001b[0m \u001b[0mdf6\u001b[0m\u001b[1;33m]\u001b[0m\u001b[1;33m:\u001b[0m\u001b[1;33m\u001b[0m\u001b[1;33m\u001b[0m\u001b[0m\n\u001b[0m\u001b[0;32m      3\u001b[0m     \u001b[0mnull_collection\u001b[0m\u001b[1;33m.\u001b[0m\u001b[0mappend\u001b[0m\u001b[1;33m(\u001b[0m\u001b[0minspect_null_info\u001b[0m\u001b[1;33m(\u001b[0m\u001b[0mdf\u001b[0m\u001b[1;33m)\u001b[0m\u001b[1;33m)\u001b[0m\u001b[1;33m\u001b[0m\u001b[1;33m\u001b[0m\u001b[0m\n",
      "\u001b[1;31mNameError\u001b[0m: name 'df1' is not defined"
     ]
    }
   ],
   "source": [
    "null_collection = list()\n",
    "for df in [df1, df2, df3, df4, df5, df6]:\n",
    "    null_collection.append(inspect_null_info(df))"
   ]
  },
  {
   "cell_type": "code",
   "execution_count": null,
   "metadata": {},
   "outputs": [],
   "source": [
    "for i in range(6):\n",
    "    print(null_collection[i])"
   ]
  },
  {
   "cell_type": "code",
   "execution_count": null,
   "metadata": {},
   "outputs": [],
   "source": [
    "col_dict = {\n",
    "    'BusinessParking': 'bp',\n",
    "    'Ambience': 'amb',\n",
    "    'GoodForMeal': 'gfm',\n",
    "    'hours': 'hrs',\n",
    "    'music': 'music',     \n",
    "    'best_nights': 'best_nights'\n",
    "}"
   ]
  },
  {
   "cell_type": "markdown",
   "metadata": {},
   "source": [
    "# Manual"
   ]
  },
  {
   "cell_type": "code",
   "execution_count": null,
   "metadata": {},
   "outputs": [],
   "source": [
    "# # change json to df and attach an id\n",
    "# df_to_add = df_b['attributes'][0]\n",
    "# df_to_add['business_id'] = df_b['business_id'][0]\n",
    "# df_to_add = pd.DataFrame.from_records(df_to_add, index=[0])\n",
    "# # parse string dictionaries\n",
    "# df_to_add['Ambience'] = parse_str_dict(df_to_add, 'Ambience')\n",
    "# df_to_add['BusinessParking'] = parse_str_dict(df_to_add, 'BusinessParking')\n",
    "# df_to_add['GoodForMeal'] = parse_str_dict(df_to_add, 'GoodForMeal')\n",
    "# # change value format\n",
    "# for col in ['WiFi', 'Alcohol', 'NoiseLevel', 'RestaurantsAttire']:\n",
    "#     df_to_add[col] = ast.literal_eval(df_to_add[col][0])"
   ]
  },
  {
   "cell_type": "markdown",
   "metadata": {},
   "source": [
    "# Load Other Datasets"
   ]
  },
  {
   "cell_type": "code",
   "execution_count": null,
   "metadata": {},
   "outputs": [],
   "source": [
    "df_r = []\n",
    "r_dtypes = {\"stars\": np.float16, \n",
    "            \"useful\": np.int32, \n",
    "            \"funny\": np.int32,\n",
    "            \"cool\": np.int32,\n",
    "           }\n",
    "with open(\"source/yelp_academic_dataset_review.json\", \"r\", encoding='utf-8') as f:\n",
    "    reader = pd.read_json(f, orient=\"records\", lines=True, \n",
    "                          dtype=r_dtypes, chunksize=10000)\n",
    "        \n",
    "    for chunk in reader:\n",
    "        bid = df_b['business_id'].values\n",
    "        reduced_chunk = chunk.query(\"(`date` >= '2018-12-01') & (business_id in @bid)\")\n",
    "        df_r.append(reduced_chunk)\n",
    "    \n",
    "df_r = pd.concat(df_r, ignore_index=True)"
   ]
  },
  {
   "cell_type": "code",
   "execution_count": null,
   "metadata": {},
   "outputs": [],
   "source": [
    "df_r.shape"
   ]
  },
  {
   "cell_type": "code",
   "execution_count": null,
   "metadata": {},
   "outputs": [],
   "source": [
    "df_r.head()"
   ]
  },
  {
   "cell_type": "code",
   "execution_count": null,
   "metadata": {},
   "outputs": [],
   "source": [
    "df_r['date'].describe(datetime_is_numeric=True)"
   ]
  },
  {
   "cell_type": "code",
   "execution_count": null,
   "metadata": {},
   "outputs": [],
   "source": [
    "df_u = []\n",
    "r_dtypes = {'user_id':str,'name':str,\n",
    "    'review_count':int,'yelping_since':str,\n",
    "    'useful':int,'funny':int,'cool':int,'fans':int, 'average_stars':float}\n",
    "with open(\"source/yelp_academic_dataset_user.json\", \"r\", encoding='utf-8') as f:\n",
    "    reader = pd.read_json(f, orient=\"records\", lines=True, \n",
    "                          dtype=r_dtypes, chunksize=10000)\n",
    "        \n",
    "    for chunk in reader:\n",
    "        uid = set(df_r['user_id'])\n",
    "        reduced_chunk = chunk.query(\"(user_id in @uid)\")\n",
    "        df_u.append(reduced_chunk)\n",
    "    \n",
    "df_u = pd.concat(df_u, ignore_index=True)"
   ]
  },
  {
   "cell_type": "code",
   "execution_count": null,
   "metadata": {},
   "outputs": [],
   "source": [
    "df_u.shape"
   ]
  },
  {
   "cell_type": "code",
   "execution_count": null,
   "metadata": {},
   "outputs": [],
   "source": [
    "df_u.head()"
   ]
  },
  {
   "cell_type": "markdown",
   "metadata": {},
   "source": [
    "# Save Data"
   ]
  },
  {
   "cell_type": "code",
   "execution_count": null,
   "metadata": {},
   "outputs": [],
   "source": [
    "ref = dict(zip(['business', 'reviews', 'users'], [df_b, df_r, df_u]))\n",
    "for name, df in ref.items():\n",
    "    df.to_parquet(f'source/yelp_restaurants_{name}.parquet')"
   ]
  }
 ],
 "metadata": {
  "interpreter": {
   "hash": "4852b068f8654f5f7a5ee5e9f7da8e01f6665235abb4d2157c955e604691fbb4"
  },
  "kernelspec": {
   "display_name": "Python 3.9.6 64-bit",
   "language": "python",
   "name": "python3"
  },
  "language_info": {
   "codemirror_mode": {
    "name": "ipython",
    "version": 3
   },
   "file_extension": ".py",
   "mimetype": "text/x-python",
   "name": "python",
   "nbconvert_exporter": "python",
   "pygments_lexer": "ipython3",
   "version": "3.8.11"
  },
  "orig_nbformat": 4
 },
 "nbformat": 4,
 "nbformat_minor": 2
}
